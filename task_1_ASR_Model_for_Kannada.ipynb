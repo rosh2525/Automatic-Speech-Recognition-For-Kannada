{
  "nbformat": 4,
  "nbformat_minor": 0,
  "metadata": {
    "colab": {
      "provenance": [],
      "gpuType": "T4"
    },
    "kernelspec": {
      "name": "python3",
      "display_name": "Python 3"
    },
    "language_info": {
      "name": "python"
    },
    "accelerator": "GPU"
  },
  "cells": [
    {
      "cell_type": "code",
      "execution_count": 1,
      "metadata": {
        "colab": {
          "base_uri": "https://localhost:8080/"
        },
        "id": "5bSIl9mafNe1",
        "outputId": "71646001-0778-4804-d31a-cbf7ff49da9a"
      },
      "outputs": [
        {
          "output_type": "stream",
          "name": "stdout",
          "text": [
            "Mounted at /content/drive\n"
          ]
        }
      ],
      "source": [
        "from google.colab import drive\n",
        "drive.mount('/content/drive')"
      ]
    },
    {
      "cell_type": "code",
      "source": [
        "import os\n",
        "\n",
        "os.chdir('/content/drive/My Drive/Colab Notebooks')"
      ],
      "metadata": {
        "id": "pse27OSof9Zz"
      },
      "execution_count": 2,
      "outputs": []
    },
    {
      "cell_type": "code",
      "source": [
        "import psutil\n",
        "\n",
        "# Check available memory\n",
        "mem = psutil.virtual_memory()\n",
        "print(f\"Available memory: {mem.available / (1024**2):.2f} MB\")\n"
      ],
      "metadata": {
        "colab": {
          "base_uri": "https://localhost:8080/"
        },
        "id": "0Cj1LV3eiWpp",
        "outputId": "52bbc3e0-cf78-4dba-df8b-c70d6aca2c12"
      },
      "execution_count": 3,
      "outputs": [
        {
          "output_type": "stream",
          "name": "stdout",
          "text": [
            "Available memory: 11485.32 MB\n"
          ]
        }
      ]
    },
    {
      "cell_type": "code",
      "source": [
        "import torch\n",
        "\n",
        "# Check if CUDA is available\n",
        "if torch.cuda.is_available():\n",
        "    device = torch.device(\"cuda\")\n",
        "    print(\"CUDA is available. Using GPU.\")\n",
        "else:\n",
        "    device = torch.device(\"cpu\")\n",
        "    print(\"CUDA is not available. Using CPU.\")\n"
      ],
      "metadata": {
        "colab": {
          "base_uri": "https://localhost:8080/"
        },
        "id": "_uGQg_n0ieFY",
        "outputId": "42b80022-dde5-4e35-d4a3-fc2f6c8a16af"
      },
      "execution_count": 4,
      "outputs": [
        {
          "output_type": "stream",
          "name": "stdout",
          "text": [
            "CUDA is available. Using GPU.\n"
          ]
        }
      ]
    },
    {
      "cell_type": "code",
      "source": [
        "import os\n",
        "import torch\n",
        "import librosa\n",
        "from transformers import Wav2Vec2ForCTC, Wav2Vec2Tokenizer\n",
        "\n",
        "model_name = \"TheAIchemist13/kannada_beekeeping_wav2vec2\"\n",
        "tokenizer = Wav2Vec2Tokenizer.from_pretrained(model_name)\n",
        "model = Wav2Vec2ForCTC.from_pretrained(model_name)\n",
        "\n",
        "model.eval()\n",
        "device = torch.device(\"cuda\" if torch.cuda.is_available() else \"cpu\")\n",
        "model.to(device)\n",
        "\n",
        "audio_directory = \"Sandalwood Dataset\"\n",
        "\n",
        "transcriptions = {}\n",
        "\n",
        "for filename in os.listdir(audio_directory):\n",
        "    if filename.endswith(\".mp3\"):\n",
        "        audio_file = os.path.join(audio_directory, filename)\n",
        "        audio_input, _ = librosa.load(audio_file, sr=16000)\n",
        "        input_values = tokenizer(audio_input, return_tensors=\"pt\", padding=True).input_values.to(device)\n",
        "\n",
        "        max_input_length = 400000\n",
        "        if input_values.size(1) > max_input_length:\n",
        "            input_values = input_values[:, :max_input_length]\n",
        "\n",
        "        try:\n",
        "            with torch.no_grad():\n",
        "                logits = model(input_values).logits\n",
        "\n",
        "            predicted_ids = torch.argmax(logits, dim=-1)\n",
        "            transcription = tokenizer.batch_decode(predicted_ids)[0]\n",
        "\n",
        "            transcriptions[filename] = transcription\n",
        "            print(f\"Processed {filename}: {transcription}\")\n",
        "\n",
        "        except RuntimeError as e:\n",
        "            print(f\"Error processing {filename}: {e}. Skipping this file.\")\n",
        "\n",
        "with open(\"transcriptions.txt\", \"w\") as f:\n",
        "    for filename, transcription in transcriptions.items():\n",
        "        f.write(f\"{filename}: {transcription}\\n\")\n",
        "\n",
        "print(\"Transcription completed for all audio files.\")\n"
      ],
      "metadata": {
        "colab": {
          "base_uri": "https://localhost:8080/"
        },
        "id": "1f06tX2hgtxO",
        "outputId": "b9e17a13-047d-4fc1-c5d8-46072dc73713"
      },
      "execution_count": 7,
      "outputs": [
        {
          "output_type": "stream",
          "name": "stderr",
          "text": [
            "The tokenizer class you load from this checkpoint is not the same type as the class this function is called from. It may result in unexpected tokenization. \n",
            "The tokenizer class you load from this checkpoint is 'Wav2Vec2CTCTokenizer'. \n",
            "The class this function is called from is 'Wav2Vec2Tokenizer'.\n",
            "Some weights of the model checkpoint at TheAIchemist13/kannada_beekeeping_wav2vec2 were not used when initializing Wav2Vec2ForCTC: ['wav2vec2.encoder.pos_conv_embed.conv.weight_g', 'wav2vec2.encoder.pos_conv_embed.conv.weight_v']\n",
            "- This IS expected if you are initializing Wav2Vec2ForCTC from the checkpoint of a model trained on another task or with another architecture (e.g. initializing a BertForSequenceClassification model from a BertForPreTraining model).\n",
            "- This IS NOT expected if you are initializing Wav2Vec2ForCTC from the checkpoint of a model that you expect to be exactly identical (initializing a BertForSequenceClassification model from a BertForSequenceClassification model).\n",
            "Some weights of Wav2Vec2ForCTC were not initialized from the model checkpoint at TheAIchemist13/kannada_beekeeping_wav2vec2 and are newly initialized: ['wav2vec2.encoder.pos_conv_embed.conv.parametrizations.weight.original0', 'wav2vec2.encoder.pos_conv_embed.conv.parametrizations.weight.original1']\n",
            "You should probably TRAIN this model on a down-stream task to be able to use it for predictions and inference.\n"
          ]
        },
        {
          "output_type": "stream",
          "name": "stdout",
          "text": [
            "Processed SandalWoodNewsStories_200.mp3: ದು ಒಳ್ಳೆ ಟಾಪಿಕ್ತೋಡಬಂದು ವಿಡಮಾಡತ್ತರೋದು ಂದರೆ ಕ್ರೋಚಿಪ್ ದು ಶ್ರೀಂಧಕೆ ಪ್ರೊಟಕ್ಷನ್ ಬಗ್ಗೆ ಎಲ್ಲರಿಗೊಂದು ಸಂಶದ ಎಲ್ಲರಿಗೊಂದು ಕನಿಸಿದೆ ತಮ್ಮ ಗಂಧದ  ಹೊಲನ ಹೇಗೆನೋ ಕಾಪಾಡ್ಬೇಕು ಇಲ್ಂದರೆ ಅದರಿಂದ ಹೇಗೆ ಲಭಪಡಬೇಕಂತ ೇಳಿ ಅರ ಬಗ್ಗೆ ಕುರ್ತುನನು ಿಪ್ಬಗ್ಗೆ ಹೇಗೆ ಹಾಕಬೇಕು ಇಲಂದರೆ ಎಷ್ಟು ಖರ್ಚಾಗುತ್ತೆ ಆಮೇಲೆ ಯವಾಗ ಹಾಕಬೇಕು ಎಷ್ಟು ವರ್ಷಬರತಮ್ಮೆ ನವ್\n",
            "Processed SandalWoodNewsStories_148.mp3: ಮನ ಗ  ನ್ನು ಮಡಲಮಾಡಿ ಇದಕಕೂ ಕಗೊರಕೊಟ್ಟ ಅದಕ್ಕೆ ು  ಗಬ ಕಂಡಿರಕಟ್ಟರೆ ರಕ   ನಗೆ ಲ ಿ       ಲ ಗ ದ ಲ್ಲ   ್  ಾಗಿದ\n",
            "Processed SandalWoodNewsStories_63.mp3: ದ ಲೋ ರೀತಿದು ್ರ ದಲ್ಲೇ ರೀತಿ ಮಾಡಿಸಿದ ವು ಸ ಡ ರೀತಿ ಮಾಡಿಕೊಟ್ಟರೆ ಖಂಡಿತವಾ ಗೆ ದು ಶರೀಲ ದುಶೀು ಬೆಳಸಿದರೆ ರಿ ಲಕ್ಷ ಆಗಿ ಅ ಯರು ಭಯಪಡಬೇ ಈ ರೀತಿದು ದ ಗ್ರ್ ಮಾಡದ ಕೆಸದ ರಿ\n",
            "Processed SandalWoodNewsStories_46.mp3: ನಮಸ್ಕಾರ ಆ ನ್    ಹ ಕರ್ನ್ಮಂದಿಲ್ಲನೆ       ಗ ರ ಲಾಸಿಯರಿ  ತಂದಗ ಲ್ಲ  ್ರೀ ಮಂತಲ್ಯಾನ\n",
            "Processed SandalWoodNewsStories_167.mp3: ಕ್ೃಷಿಕೋ್ ಕರಿಗೆ  ಕೋಟಿ ಸಂಪಾದಿಸಿ     ಶ್ರೀಗಂಧದ ಮಾರುಕಟ್ಟೆಯಲ್ಲಿ ಭಾರತ ವಿಶ್ವಕ್ಕೆ ಲೀಡರ್ ಕರ್ನಾಟಕ ಭಾರತದಲ್ಲಿ ಟಾಪಾನ   ಲಕ್ಷಕೋಟಿಮೌಲ್ಯದ ವಿಶ್ವಮಾರುಕಟ್ಟೆಯಲ್ಲಿ ನಮ್ಮದು ಸಿಂಹಪಾಲ್\n",
            "Processed SandalWoodNewsStories_230.mp3: ಬೆ ಂಗಳರು ವಿಶ್ವ ವಿದ್ಯಾನಿದ ಆವಣದಲ್ಲಿ ಕೋಟಿಕೋಟಿರೂಪಯ ಶ್ರೀಗಂಥ ಲೂಟಿಯಾಿದ್ದರೆ  ಜದರಿಗೂ ಗೊತ್ತಾಗಿಲ್ವ ಅವರೇನು ಕಂಪ್ಲೇಟ್ ಕೊಟ್ಟಿಲ್ವ ಅಂತ ನೀವುನಮತ್ರ ಪ್ರಶ್ನೆ ಕೇಳಬಹುದು ಖಂಡಿತ ಅವರು ಕಂಪ್ಲೇಟ್ ಕೊಟ್ಟಿದ್ದರೆ ಆದರೆ ಅವರು ಕೊಟ್ಟ ದೂರಿಗೆ ಸಿಕ್ಕ ಸ್ಪಂಧನೆಯ ವಿವರ ಇಲ್ಲಿದೆ ನೋಡಿ  ಕಾಡುಗಳಳ ವೀರನ್ನನ್ನ ಹಿಡಿಯಲ\n",
            "Processed SandalWoodNewsStories_295.mp3: ನಮ್ಮ ವಿಸ್ಮ್ಾ ಕ್ನಡ ಚಾನೆಲ್ನ್ನು ಸಬ್ಸ್ಕ್ರೈ್ ಮಾಡಿ ಹಾಗಿನ ಬೆಲ್ಬಟನನ್ನು ಕೂಡ ಕ್ಲಿಕ್ ಮಾಡಿ ಇದರಿಂದ ನಾವು ಅಪ್ಲೋಡ್ ಮಾಡಿದ ವಿಡಿಯವನ್ನು ನೀವು ಎಲ್ಲರಿಗಿಂತ ಮೊದಲು ನೋಡಬಹುದು  ಕನ್ನಡ ಚಾನೆಲ್ಗೆ ಸ್ವಾಗತ ತರೆ ಭಾರತವು ಪ್ರಾಚೀನ ಕಾಲದಲ್ಲಿ ಬಂಗಾರದ ಬೀಡಾಗಿ ತೆಂಬುದು ನಿಮಗೆಲ್ಲ ತಿಳಿದಿರಬ ಏಕೆಂದರೆ ಭಾರತದಲ್ಲಿ ಪ್ರಕ್ರತಿದತ್ತವಾಗಿ ಬಂದಂತಹ\n",
            "Processed SandalWoodNewsStories_282.mp3: ಾಳೆ ಬಿತ್ನಿದತಂದರೆ ಟ್ರಾಕ್ಟನ್ು ಯಾರಿಗೆ ಮೊಬೈಲ್ ಫೋನ್ ಮಾಡಿ ಕಡೆ ಬೀಜಾಹುಡುತ್ತಿರು್ತನೆ ಇನ್ನು ಬೀಜನವುಗಿರಂಗಿಲ್ಲ ಟ್ರ್ಯಾ್ಟರಒಗರುತ್ತಾನೆ ಒದು ಕ್ಯಮಿಕಲ್ಸ್ಪ್ರೇ ಮಾಡುತ್ತರುತ್ತಾನೆ ಕ್ಯಮಿಕಲ್ಸ್ ಏನಂತ ಣಗೆ ಗೊತ್ತಿಲ್ಲ ದುರಂತ ಯಾಕಿ ಬಯಗೊಳ್ಳಯಿತು ಹಿಲ ಈೀಟಾಗಿದ್ದ ಈಟನಲ್ಲ ನಿನ್ನೆ ಮೆತಮಿಲ್ಸ್ಪ್ರೇ ಮಾಡಿದ್ದ ಷದದ್ದು ತಂದಿದ್ದನೆ ಅದೇ ನಾಳಿಗೆಾಗಲ ಒಟ್ಟಿಗೆ ಕರಣಿಗೆ ರೂ ಕ್ಯಾನ್ಸರ್\n",
            "Processed SandalWoodNewsStories_298.mp3: \n",
            "Processed SandalWoodNewsStories_176.mp3: ರಕಾರ ಸುಮಾರ್ ಸ್ಕಿಕೂಡತ್ತ ಇದೆ ಸರ್ಕಾರದ ಸ್ಕಿಂಗನ ರೈತರಬಳಸಿಕೊಂಲ್ಲ ವತತ ಇಡೀ ಬೋರ್ಡಲ್ಲಿ ತುಂಬಾ ಕಾಸ್ಲಿಯ ಹುಡ್ಡಂದರೆ ಶ್ರೀಗಂಧಕ್ಕಿಂತು ಕಾಸ್ಲಿ ಂದರೆ  ಿಕ್ಕಪಟ್ಟ ಬೆಲೆಯದೆ ದು ಕೆಜಿ ಶ್ರೀಗ ಹುಡ್ಡುಗಾಗ ಹೋಗುತ್ತರನ ದಿಲಕ್ಷ ಇದೆ ಆಯಿಲಿಾಗುವದ ಇನ್ನುಕಸ್ಟ ್ನು  ದ ಅಪ್ರಾಕ್ಸಿಮೀಟಗೆಸ್ ಮಾಡುತ್ತಿರೆ\n",
            "Processed SandalWoodNewsStories_239.mp3: ಕಾರ ತಮ್ಮ ಜನರ್ಗೆ ತಮಗೆ ಆದ್ಮೀಯ ಸ್ವಾಗತ ಸ್ನೇಹತರೆ ಇವತ್ತಿನ ಬಿಡದಲ್ನಗೆ ಪ್ರಪಂಚದ ಅತ್ಯಂತ ದುಭಾರಿ ಬೆಗಳಲ್ಲಿ ಉಂದಾದ ಒಂದು ಬೆಳೆಯನನಗೆ  ಪರಿಚ ಮಾಡಿಕೊಡುತ್ತಾಗ್ಗಿನೆ ಈ ಒಂದು ಬೆಳೆಯನ್ನುವು ತಮ್ಮ ಕರ್ನಾಟಕದಲ್ಲೇ ಬೆಳೆಯಬಹುದು ಹಾಗಿನೆ ಈ ಒಂದು ಬೆಳೆಗೆ ಅತಿ ಕಡಿಮೆ ನೀರು ಹಾಗಿನೆ ಅತಿ ಕಡಿಮೆ ಮೆಟನೆಟನಲ್ಲಿ ಂದು ಬೆಳೆಬೆಳಬಹುದು ಈ ಒಂದು ಬೆಳೆಬಿಳ\n",
            "Processed SandalWoodNewsStories_168.mp3: ಗುಡಿಯಲ್ಲಿ ಹುಟ್ಟಿರುವ ಕ್ೃಷಿಕರೆ ನೀವು ಕ್ೃಷಿಲ ಕೋಟಿದುಡಿಯೋಕೆ ಸಾಧ್ಯವಿಲ್ವ ಕ್ೃಷಿಕ ಕೋಟಿಲೆಕ್ಕದಲ್ಲಿ ಮಾತನಾಡೋಕೆ ಆಗೋದೇಿಲ್ವ ಇಲ್ಲ ಈಗ ಕಾಲಬದಲಾಗಿದೆ ಪ್ರತಿ ಕ್ೃಷಿಕ ಕೂಡ ಇದೀಗ ಕೇವಲ ಶ್ರೀಗಂಧ ಗಿಡದಲ್ಲೇ ಕೋಟ್ಯಾಧೀಶನಾಗಬಹುದು ಹೌದು ಒಶ್ರೀಗಂಧ ಗಿಡ ಕನಿಷ್ಠ  ಲಕ್ಷ ಆದಾಯ\n",
            "Processed SandalWoodNewsStories_223.mp3: ಜೈವಿಕ ಉದ್ಯಾನವನದಲ್ಲಿದ ಶ್ರೀಗಂಧದ ಮರ ಕಳೆತನವಾಗಿದೆ ಚ್ಚೇರಿಮುದಿದ ಶ್ರೀಗಂಧದ ಮರವನ್ನು ಕಳರ ಎತಕೊಂಡಗ ದರೆ ರಾತ್ರುರಾತ್ರಿ ಶ್ರೀಗ ಮರವನು ಕಡೆದು ಕವಿಮರುಹೊತ್ ಇದು ಪಾರ್ಕ ಆವಣದಲ್ಲಿ ಕಾರಿನಿರ್ವಹಿಸುತತದಂತಹ ಸಿಬ್ಬದ ಈ ಕೃತಿವಸಗಿರುವಶಂತವ್ಕ್ತವಾಗಿದೆ ನ್ಯಾಷಲ್ಪಾರ್ಧಿಕಾರಿಗಳಿಂದೇಗ ಪರಿಷದನೆ ಮುಂದುಬರತಿದೆ ಬೆಂಗಳೂರು ಹೊರವ ಬಂದಿರುಘಟ್ಟ ಜೈವಿಕ ಉದ್ಯಾನವನದ  ಪೋಚಚೇರಿಮುಂದಿದಂತಹ\n",
            "Processed SandalWoodNewsStories_249.mp3: ದು ಚಿತ್ರತುರ್ಗನಗರಬಳಿಯ ಜೋಗಿಮಟ್ಟಿ ಅರುಣನ್ಯಧಾಮ  ಸಾರಹೆಕ್ಟರ್ ಪ್ರದೇಶ ವ್ಯಾಪ್ತಿಯಲ್ಲಿರುವ ಗಳಿಯಲ್ಲಿ ಶ್ರೀಘಂ ಸೇರಿ ಅನೇಕ ಮರುಗಿಡಗಳಿವೆ ಆದರೆ ಇಂಥ ಅಪರೂಪದ ಅರಣ್ಯದ ಮೇಲೆ ಮಾರಗಳ್ಳರ\n",
            "Processed SandalWoodNewsStories_156.mp3: ಮೊದಲ ಪ್ರಶ್ನೆಹಿದರೆ ಶ್ರೀಗಂ ಬರತ ಹೇಳಿದರೆ ಎಲ್ಲದರೀತಿನಲ್ಲಿ ಬೇರೆ ಕುರೂಕ್ಷಗಳಿಗೆ ಹೋಲಿಸದಲ್ಲಿದು ಖಂಡಿತವವಿಟ ಯಾವ ದು ದಲ್ಲಿ ಇದು ಬೇರೆಮರಗಳಿಗಿಂತ ವಶಿಷ್ಟಆಗಿದೆ ನ ಮೊದಲ ಪ್ರಶ್ನೆ ಶಗಂಧ ಮರ ವಯ್ ಬಗ್ಗೆ ಹೇಳಬೇಕಾದರೆ    ಅದು ಮೊದಲನೇದಾಗಿ ಾರ್ಮಲ್ ಮರಾಥರ ಅಲ್ಲ\n",
            "Processed SandalWoodNewsStories_297.mp3: ಸಿ ಿಮಾ ನೋಡಿ ರಕ್ತಚಂದನ ವ್ಯವಹಾರದ ಬಗ್ಗೆ ನಿಮಗೆ ಗೊತಿರಬಹುದು ರಕ್ತಚಂದನ ನೋಡಿದಷ್ಟೂ ಸಿಂಪಲ್ ಅಲ್ಲ ದರ ಮಾರ್ಕೆಟ್ ತುಂಬಾನೇದೊಡ್ಡು ಹೀಗಾಗಿ ಇದಕ್ಕೆ ಬೇಡಿಕೆ\n",
            "Processed SandalWoodNewsStories_23.mp3: ಗ್ಂಧದ ಗೂಡಿಯಲ್ಲಿ ಜಗತ್ತಿಗೆ ಗಂಧದ ಪರಿಮೂಳವನ್ನ ಹಬ್ಬಿಸಿದಂತಹ ಗಂಧದ ನಾಡಿನಲ್ಲಿ ಇಂಥ ಗ್ಂಧದ ನಾಡಿನ ಕಂಪನ ಮತ್ತಷ್ಟು ಹೆಚ್ಚಿಸುವುದಕ್ಕೆ ಬಣತೊಟ್ಟು ನಿಂತಿದ್ದಾರೆ ಗಂಧದ ಗೂಡಿಯ ಗಂಡುಗಲಿ      ಇವರ ಹೆಸರು ರಮೇಶ್ ಬಲೂಟೆ ಕೊಪ್ಪಳದ ಕುಷ್ಟಿಗೆಯವು ಕ್ರಿ\n",
            "Processed SandalWoodNewsStories_211.mp3: ಕಟ್ಟಡದ  ಗ್ರಾ  ೆಟರಲ್ ಮಾತನಾಕ   ಬದ್ಬ ಕ    ಗಿದ ಷಗ ಕ್ ಬ  ಮರ್\n",
            "Processed SandalWoodNewsStories_215.mp3: ಮದಲಲ  ನವು ಮೊದಲು ನಮ್ಮ ತೋಟದಲ್ಲಿ ಸುಮಾರು  ವರ್ಷದ ಮಾವಿನತೋಟಯಇತು ಮಾವಿತೋಟದಲ್ಲಿ ಅಷ್ಟೊಂದು ಆದಾಯ ಬರತಿಲ್ಲ ಒಂದು ವರ್ಷ ಬರತತೆ ಂದು ವರ್ಷ ಬರಲ್ಲ ಇಗಾಗಬಿಟ್ಟು ಏನಾದರೂ ಬೇರೆ ಮಾಡಬೇಕು ಅಂತ ಹೇಳ್ಬಿಟ್ಟ  ಅರಣ್ಯ ಕ್ರಷಿ ಶುರು ಮಾಡದಿರೆ ಪ್ರಾರಂಭ ಅರಣ್ಯ ಕ್ರಷಿಲ\n",
            "Processed SandalWoodNewsStories_175.mp3: ನಮಸ್ಕಾರ ನಾನು ರಮೇಶ್ಬುಲುಟಿಗಂ   ಕೊಪ್ಪಳ ಜಿಲ್ಲೆ  ಕುಷ್ಟಿಗೆಯ ರೈತರು  ವೆಲ್ಲ ದಾಳಿಬೆ ಬೆತಬಂದಂವರು  ಲ ೌ ೀಗ ಶ್ರೀಗಂಬೇ\n",
            "Processed SandalWoodNewsStories_158.mp3: \n",
            "Processed SandalWoodNewsStories_146.mp3: ಕ್ಿ ನೀವೇನ ಹಳುತ್ತಿರಿ  ಶಾಟರ್ಮು ಮೀಡಿಯಂಟರ್ಮು ಲಾಂ್ಟ್ಮು ಇಬೇಕು ರೈತ ರಿಟೇಡಆಗಿ ಅಕೈಲಲಿ ವ್ಯವಸಯ ಮಾಡಕ್ಕ ಆಗದ ದಾಗ ಬೆಲಿಳಿಗೆ ಬದುಮೇಲೆ ಮತ್ತು  ಗಿಡಮರಗೊಳಿದ್ರೇನೆ ದ್ಸರ್ವೇವಾಗದು  ಮಾವು ಇದೆ ಮತ್ತೆ ಸಿಭೆ ಇರುತ್ತೆ ಗೂಡಂಬಿ ಇದೆ ಸಿತಾಬಲ್ಗಿಡಿಗಳಿರುತ್ತವೆ ಆರಮದಲ್ಲಿ ನಾವು ು ಅಥವಾ ದಿಲ್ಲೆಲ್ಲಿ\n",
            "Processed SandalWoodNewsStories_173.mp3: ಮಾಡಬೇಕತನೆ ಮದ ರೆಡೆಯುತವಣ ಈಗ ಕಕಂತನೆ ಒ್ತು ಕೊಟ್ಟಿದ್ದೇನೆ ನೋಡಬ ಳ ಸ್ವಲ್ಪ ಬಂದಾಗದಕ್ಕೆ ಯಾವ ರೀತಿ ನ್ನು  ಸ್ಪ್ರೆ ಮಾಡಬೇಕು ಅದಬಗ್ಗೆ ಸ  ಕಕರೇ  ಗ ವಿಡಿಯತನ ಫರೆ ಯಾವ ರೀತಿಯದರೆ  ವಿದ್ಯಕರ ವ್ಯತಿಯದನ್ನು ಯಾರ ಕಿತ್ಕೊಳಗ ಬಬ ಫ್ರೀಡ್ಯಾ  ವ್ಯಕ್ತಿರಿಂದ ದರ\n",
            "Processed SandalWoodNewsStories_52.mp3: ವಿಡಿಯೋ ಬಳಜ ಗಟೆಗೆ ಸ್ಕರ ಯವೇದ ಪಂಚಕರ್ಮ ಹಾಗೂ ಯೋಗ ವಿಡಿಯಗೊಳಗಾಗಿ ನೋಡುತ್ತ ಇರೆ ನಮ್ಮ ಚಾನಲ್   ಚನಲ್ ಗ ಸಬ್ಸಕ್ರೈಬರಾಗಿ  ವ  ಗಟೆಬಟತ ಲೈಕ್ ಮಾಡಿ ಶೇರ್ ಮಾಡಿ ರಿವಿಕರ ನನು ಡಾ್ಟರ್ ಪಿಕೆ ಪ್ರವೇಡ್ಮಾು ಆಯವೇದ ತ್ತು ಮರ್ಮಚಿಕಿತ್ಸಕ\n",
            "Processed SandalWoodNewsStories_112.mp3: ರಿಯ\n",
            "Processed SandalWoodNewsStories_181.mp3: ಫ್ಟಿ ಪರಸೆಟ್ ಕಟ್ಮಾಡುತ್ತಾರೋದ  ಕಲ   ಪರ್ಲ ಬರಲಿ ಅಂತ ಹೇಳಿ ಪೂರ್ತಿನಳಗೊಬೇಡ ಅರ್ಧಳದ್ರೆ  ನಮ್ಮ ಗಾಳಿಮರನ್ನು ಬೆಳೆಯುತ್ತೆ ಲಸ ಗಧಕ್ಕೂ ಏನು ಸಮಸ್ಯಿಲ್ಲ ಈಗ ನೋಡಿದರೆ ನೀವು ಫಿ್ಟಿ ಪ್ಸಂಟ್ ಮಾತ್ರ ಕಟ್ಮಾಡುತ್ತರದವ   ಜರೋಪ  ್ ಅಲ್ಲ ಜೀರೋಲ್ಲಿ ಕಂಪ್ಲೀಟ್ಪ್ೂಡ್ ಗುತ್ತೆ ಅಂದರೆ  ನ\n",
            "Processed SandalWoodNewsStories_43.mp3: ಆಲ ಬ್ಯಾಂಗಲೂನು  ರರೆ್ಟಫ್ ರೇಪರ್ಸನ್ ರ್ಸನಾಲ್ಟಿತ ಜ್ ರಿಗಾರ್ಡಿಂಗ್ ಸ್ಯಾಂಡೂಟ್ ಕ ಲಿ ರೀಸಂಟ ಸ್ಯಾಂಗ ಚಾಲಾ ಅಭೂಮದಿ ನಿಯದ್ರಕ್ಕತೆಲಸಕದ    ರರೆ್ಟಫ್ ರೇ ಪರ್ಸನ್  ರಾಕಿ ಬ್ಯಾಂಗಳೂರ್ೊ\n",
            "Processed SandalWoodNewsStories_42.mp3: ಗುಂಟೆಲ್ಲಿ ರ ಶ್ರೀಗೈ   ಮಾವ  ರೈತ  ಸೀತಾಪಲೈ  ಬೆಟ್ಟನಲ್ಲಿಕಯತಿ ಲೈಿ  ುಿೈತಿ   ೈತಿ  ಕರಿಬೆೈಿ  ನುಗ್ಗೆಕಾತ   ತೆಂಗೈ <unk>ಗವನಿಗೆಡ ಸಿಂಗಲ್ಸ್ಕ್ವರ್ಫೀಟ್ ಫ  ಲ್ಯಾಂಡ್ೊ ್ಟಡ್    ವ್ಯಲ್\n",
            "Processed SandalWoodNewsStories_306.mp3: ಶ್ರೀಗಂಧದಾಬೆಳಿಗೆ ಇರುವ ಭಯ ಂದರೆ  ಕಳ್ರಾಭಯವಂದೆ  ಪಸಲು ಬರುವವರೆಗೂ ಕಾಬಾಡಿಕೊಳ್ಳು\n",
            "Processed SandalWoodNewsStories_169.mp3: ಮಾರ್ಕೆ  ಕೆಜಗೆ ರಇದೆ ಅಂತ ಹೇಳಿ    ನಮ್ಮ ದೇಶದಲ್ಲಿ ಹೇಳತ್ತಾರೆ   ಗ ಸುಮಾರು  ವರ್ಷದಿಂದ ಒದರ   ರ್  ಷದ ಈಗ  ಗಿದೆ ತೀಚಿಗೆನ ಶ್ರೀಗಂಧದ ಬೀಜಿದಿಂದ ಬೇರೆ ಬೇರೆ ಉತ್ಪನ್ನಗಳನ್ನು ಮಾಡುತ್ತಿವೆ ಹಳಿ ತಿಳಿಸಿತ್ತಾರೆ ನೀವು  ವರಷದ ಮೇಳ್ಪಟ್ಟಂತ ಸಸಿಯಿಂದ ಬರುವಂ ಬೀಜವನ್ನು ಕಲೆಕ್ಟ್ ಮಾಡಿಟ್ಟಕೊಂಡರೆ ನಾವು ಅದನ್\n",
            "Processed SandalWoodNewsStories_36.mp3: ಗೆ ನಾವು ೊರಕಿನವರ ಅ  ಸಾಕಾಯಿತು ಅವರು ನಮ್ ಮೇಲೆ ೂಗಿಬೇಡೋದಕ್ಕೆ ್ಮನ್ನೆ ಬೆನತಿದ ಅವರನ್ನು ಸೋಮ್ನೆ ಬಿಡಬೇಕ ಚಾನ್ ದೇ ದ ಡೆಬಿಡೋಣ\n",
            "Processed SandalWoodNewsStories_99.mp3: ಕೃಷಿಯಲ್ಲೇ ಬದುಕೂ ಕಟ್ಟಿಕೊಂಡ ಅನ್ನದಾತ ಶ್ರೀಗಂಥದ ಬೆಳೆ ಬೆಳೆದು ಸಕ್ಸಸ್ ಕಂಡಿದ್ದ ಆತ ಈಗ ಎಲ್ಲರಿಗೂ ಮಾದರಿಯಾಗಿದ್ದಾನೆ ಕೇವಲ ನಮ್ಮರಾಜ್ಯದಲ್ಲಿ ಮಾತ್ರ ಅಲ್ಲದೇ ವಿದೇಶದಲ್ಲೂ ಫುಲ್ ಫೇಮಸ್ ಆಗಿದ್ದಾನೆ ಯಾರಾತ ಸ್ಟೋರಿ ನೋಡಿ ಹಚ\n",
            "Processed SandalWoodNewsStories_304.mp3: ಇವತ್ತಿನ ವಿಷು ಂದು ಸಿಬೆ ಮತ್ತು ಶ್ರೀರತೋಟದ ಮದ್ೆ ನವೇನ್ ಬೆಳದು ಹೀಗೆ ಲಾಭತಗ ಬಗ್ಗೆ ನನು ಹೇಳುತ್ತನೆ ಇದು ಂದು ಸಕ್ಸಸ್ಫುಲ್ ಫಾರ್ಮರನ ಸ್ಟೋರಿತ ತಿಳುಕೊಬಹುದು ನವಿಲ ಯಾಕೆ ತೋರಸತ್ತದೆರೂ ಬಹಳಜನ ತಪ್ಪಮಾಡತ್ತಾರೆ  ನೀವು ಮಾಡಬೇಡಿ ಅಂತಹೇಳಿ ಇಲ್ಲಿ ರೈತಜ ಸುಂದರವಾಗಿ  ೋಪ ನಿರ್ಣಯ ಮಾಡಿದಾರೆ ಅದಕ್ಕಾಗಿ ವಿಡ ನು ಮಾಡುತ್ತರದು\n",
            "Processed SandalWoodNewsStories_184.mp3: ು ಇಂಪಾರ್ಟೆಂಟ್ ವಿಚಕೊರಿತು ವಿಡಿಯೋ ಮಾಡುತ್ತಿದ್ದೇವೆ ಅದೇನಂದರೆ ಶರೀಗದಕ್ಕೆ ಹಸ್ಟು ಮತ್ತೆ ಲೈಟ್ ಬೆಳಕು ಮತ್ತು ಹೋಸ್ಟ್ ಎಷ್ಟ ಇಂಪಾರ್ಟೆಂಟ್ ಆಗತ್ತೆ ಒಂದು ಅದರ ಗ್ರೋತಿಗೆಂರೆ ಅದರ ಬೆಳವಣಿಗೆಗೆ  ನಾವು ನೋಡೋಣ ಇಲ್ಲಿ ನಮ್ಮ ಫ್ರೆಂಟ್ ನಿಮಗೆ ತೋರಿಸುತ್ತಿದ್ದರೆ ಒಂದು ಶವೀಗ ಎಡವಿಸದಿದೆ ದು ಇದಕ್ಕೆ ನಾವು ಹೋಸ್ಟ್ ಕೊಟ್ಟಿದ್ದೇವೆ  ಹ್ಟ್ ಜೊತೆಗೆದು ರದಿಕೆ ಮೆಂಟನ್ಅಲ್ಲ ಂದು ನಮ್ಮ\n",
            "Processed SandalWoodNewsStories_283.mp3: ೋಟದಲ್ಲಿ ಮತ್ಟದು ಬೆಳೆಬೆಂದಿದ್ದಿರಾ ಜನ ಇ ನಚರ   ಚೆನ್ನ  ಪುಷ್ನ ನೋಡಿದಿರಲ ಅದರಲ್ಲಿ  ಸ್್ಲಿಂಗ್ ದೆಲ್ಲ ದ  ಮರಯಿದ  ಗಿಡನ ೇಕಂತ ಕಾನಸಪ್ಟ್ ಹೇಗಿಬ ಇಲ್ಲ ನಾನು ಶ್ರೀಗಂತರ್ತ ಇದ್ದಲ್ಲ ಆಟೈ\n",
            "Processed SandalWoodNewsStories_172.mp3: \n",
            "Processed SandalWoodNewsStories_197.mp3: \n",
            "Processed SandalWoodNewsStories_159.mp3: ಗಿಡಾಮರಕ್ಷಣ ಕಾಡಲ್ಲೇ ಶಿಮೊಗ್ಗತೀರ್ಥಲ್ಳಿ ಕಾಗರ ಕಡನೆ ಚೆನಗಬರುತ್ತ ಅು ಟ ಶ್ರೀಗ ಬಗ್ಗೆ ನಡಿದಾಗ ಬೇನಿಗೆಡ ಜಾಲಿಗೆಡ  ಇದು ನೋಡಿದಾಗ ಲಂಬಾಗಶ್ರೇಷ್ಠ   ನಾಗಿ\n",
            "Processed SandalWoodNewsStories_144.mp3: ಇವತತುನಾವ ನಮ್ಮ ಶ್ರೀಗದ ತೋಟದಲ್ಲಿದವೆ ಇದು ಒಂದು ವರ್ದ ಹಿಂದೆ ನವು ಒಂದು ಅತನೆಯಲ್ಲಿ ಡವಲ್ ಮಾಡಿರುವಂತ ತೋಟ ನಿಂದ ಸ್ವಲ್ಪ ದೂರಗುತೆ ಬಟ್ ರೆಫರೆನ್ಗತನಂತ ಹೇಳತ್ತಿದ್ದನೆ ಯಾಕೆಂದರೆ ಇದೇ ತೋಟ ಬಗ್ಗೆ ು  ವಿಡಿ ಮಾಡಿದರು ದೇ ವರ್ದಲ್ಲಿ ಪ್ಲಾಂಟಿಂಗ್ ಟೈಮ ಂದರೆ ನಾಟಿ ಮಾಡುವದಿನದಿಂದ ಆಮೇಲೆ ತಿ ನಂತರ ರನ್ ರೆಸಲ್ಟ್ಂತೋರಿಸಿದವೆ ಇವದು\n",
            "Processed SandalWoodNewsStories_89.mp3: ಪಸಾಥಿ ಕೊಟ್ಟಿತ್ತು ದರ    ನ್  ಗೋಬೇಕರ್  ದಿಲ್ಲ      ಬರೇ ೀಗ  ನಿ ನಡೆಯುವುದ ತ್ರು  ಮಧ್ಯಮು ನಾವೇು ಮಾಡಬೇಕದರೆ ್ರೀಗ ಟಟಿತುಂಬ ಟ್ಟಿದತಂಬ ಅಂತಮೆಳೆಗಳನ್ನು ನವಾಯ್ಕೆ ಮಾಡ್ಕೊಬೇು ಅಂತಬೆ\n",
            "Processed SandalWoodNewsStories_179.mp3: ರಂದ ಅಸರ್ಕ ಕೇಜಿ ಇದೆ ಅಂದರೆ ದ ಟಿಗೆ ಲ್ಷದದ ದು ಕೋಟಿಕ್ಷ ಒದಟದೆ ಯಾವುದೇ ವಿಶೇಷಕಾರ್ಜಿಲ್ನೇ ಬರರೆಲ್ಲ ಅನುಭವಿ ತ್ಷ್ಟಿಕ್ಕೆ ತಾನು ನಮ್ಮ ಬಧುನೆಲ್ಲಿ ಬೆಳತ ಿದ್ದರೆ\n",
            "Processed SandalWoodNewsStories_49.mp3: ರಬಾದಿಗಿಡ  ಹಾ ಿಟು  ಸಿಮಾರ   ನಡ  ಬೆಟ್ಟ ಗು್ಡಗಳ ಮಧ್ಯ ಇದಿಷ್ಟು ನಿ   ಇ ಅಲ್ಲಿರಿ ಕಣದಲ್ಲ ಗಂಧ ಪುರಗದದ  ಕಿಷ್ಣಪರ\n",
            "Processed SandalWoodNewsStories_174.mp3: ನಾನು ಹೇಳ್ತಾ ಇದ್ದರೆ  ು ಸ್ಪೆಷಲ್ಗೇ್ಬರ್ತಿದರೆ ನಾಅರು ಫ್ಯಾನ್ಂತ ಇದಿದ ನಿಮ್ಮನ್ನ ಕರ್ನಾಟಕದ ಸಾಂಡೂಡ್ ಲೇಡಿ ಅಂತಾರೆ ನೀವು ನಮ್ಮ ಫಿನಾನಫಟಬಾಲ್ಲಿ ಸಮಗ್ರ ಕೃಷಿಕೋರ್ಸ್ಗೆ ಮೆಚುಾಗಬಿಟ್ಟು ಬಹಳಷ್ಟು ಜನಕೆ ಇನ್ಪಾರ್ಮಾಡಿ ನನಗೆ  ಫ್ಟನಿ ಬಗ್ಗೆ ಕೇಳಿದ್ದು ನಿಮ್ಬಗ್ಗೆಒದ\n",
            "Processed SandalWoodNewsStories_35.mp3: ದನ   ಚಿನ್ನವನ್ನ ಟಿಮಾಡುವ ಹಳ್ಳಿ ರರಗಳಿಗೂ   ಸವಾಲಾಗಿತು ಅಂತಹ ಹಳ್ಳಿಯೊಳಗೆ ಕಾವರ್ ಸ್ಟೋರಿ ತಂಡ ಹೆರಿಕೊ\n",
            "Processed SandalWoodNewsStories_280.mp3: ನಮ್ಮನ್ನು ಪ್ರೋತ್ಸಾಯಿಸಲು ನಮ್ಮ ಚಾನಲ್ಗೆ ಸಬ್ಸ್ಕ್ರೈಬ್ ಮಾಡಿ ಲೈಕ್ ಮಾಡಿ ಮತ್ತು ಸೇರ್ ನಮಸ್ಕಾರ ಅನಷರಣಯಸ್ವಾಮಿ ವು ಕರ್ನಾಟಕದರಾಜ್ಯತ ಅನೇಕ ಕಡೆಗೆ ಸರಿಗುಕೊಟ್ಟಿದ್ದೇವೆ ಮಾಗನಿ ಕೊಟ್ಟಿದ್ದೇವೆ ರಕ್ನಚಂದ್ರವನ್ನು ಕೊಟ್ಟಿದ್ದೇವೆ ಆಮೂಲಕ ರೈತರಿಗೆ ಸಾಕಷ್ಟು ಕೂಡ ಮಾರ್ಗದರ್ಶನು ಕೂಡಕೊ\n",
            "Processed SandalWoodNewsStories_278.mp3: ಪ್ರತಿದಿನ ರಾಜ್ದ ನಾನಾಭಾಗಗಳ ಕೃಷಿ ಸಾಧಕರ ಯಶೋಗಾಥೆ ಮತ್ತು ಅವರ ಅನುಭವಗಳನ್ನು ಹೊತ್ತು ನಿಮ್ಮುಂದೆ ಬರತ್ತಾಯಿದ್ದೇವಿ ಆದರೆ ಇವತ್ತು ಒಬ್ಬ ವಿಭಿನ್ನ ಸಾಧಕರನ್ನು ಪರಿಚಯೆ ಮಾಡಿಕೊಡುತ್ತಾಯಿದ್ದೇವಿ ಹೌದು  ಚಿನ್ನದನಡಿನ ಇವರು ಚಿನ್ನದಷ್ಟೇ ಬೆಲೆಬಾಳು ಬೆಳೆ ಬೆಳೆದು ಹೊಸ ಭರವಸೆಯನ್ನು ಮೋಡಿಸಿದಾರೆ ಇತರ ರೈತರಿಗೆ ಪ್ರೇರಣೆಯಾಗಿದ್ದಾರೆ ಗಂಧದ ಬೀಡು ಶ್ರೀಗಂಧದ ಡ\n",
            "Processed SandalWoodNewsStories_98.mp3: \n",
            "Processed SandalWoodNewsStories_305.mp3: ಸುಮಾರು  ಲಕ್ಷದ ದ್ು ಹಣನ ಕಳಿಸಬಹುದು ಪ್ರೈರೆಟ್ ಮಾರ್ಕೆಟ್ ಅಲ್ಲಿ ಇದರ ಂದು ಬೆಲೆ ಂದು ಕೆಜಿಗೆ ಸುಮಾರು ಹರಿಂದ    ರಪ ಇ ಇದು ಬೇರೆಮರದ ಬೇರಿನ ಮೇಲೆ ರು ಪೋಷಕಾಂಶಗಳಣ ಹೀರಿಕೊಳಕ್ಕೆ ಡಿಪೆಂಡಆಗಿದೆ ಇವಾಗ ನಾವಿಲ್ಲೆ ನೋಡೋವದಾದರೆ ಿಟ್ ಇರೋದರಿಂದ ಕರೆಕ್ಟಾಗಿ ಅಂತರ ಕೊಟ್ಟಿರೋದರಿಂದ ಈ ಒಂದು ಮರ ಚೆನ್ನಾಗಿ ಬೆಳ್ಕೊಂಟಿದೆ\n",
            "Processed SandalWoodNewsStories_171.mp3: \n",
            "Processed SandalWoodNewsStories_6.mp3: ಗ್ಗೆ ಂದು ಸಂಪೂರ್ಣ ವಿಡಿಯೋಬರುತ್ತೆ ಬಳಜನಕದ ಡೌಟ ಬಳಸಬೇಕು ಎಲಸಿಗುತ್ತೇನಂ ದನಾವು ನೆ್ಟ್ ವಿಡಯಹಾ್ತವೆ ಇವತ್ತನ್ ವಿಡಿಯೋ ಮಾಡು್ತಿದೇನಲ್ಲ ದು ಬಹಳ ಇಂಪಾರ್ಟೆಂಟ್ ವಿಡಿಯ ನ ತಪ್ವ್ಸಿಸಿ  ವರ್ಷದಲ್ಲಿ  ಫೀಡ್ಸುತ್ತಳತೆ ಗಂಧನ ಹಗ ತಗೊಂಡಿದರಂತ ರೈತ ಜೊತೆ ಮಾತಾಡೋಣು ಬನ್ನಿ   ೀಯ\n",
            "Processed SandalWoodNewsStories_257.mp3: ಸಟರಿ ಈ ವಡದಲ್ಲಿ ರೆ್ಸ್ಯಾಂಡೂಡ್ಗಳ ಯಾಕೆ ತುಂಬಾ ಕಾಸ್ಟಲಿ ಮತ್ತೆ ಗರ್ಮೆ ಗೊತ್ತಿಲ್ದ ಇಿದಲ್ಲಿ ಬೆಳಸದು ಲ್ಲಿಲಯಾಕೆ ಅರ ಒಗೆತಿರಿಗೊಳನ ರೆಡಸ್ಯಾಂಡಡ್ಗಳಲ್ಲಿ ಹೈಕೋ ಮತ್ತೆ  ರೆಡ್ಯಾಂೂಡ್ಗಳು ಪ್ರಪಂಚದಲ್ಲ ಯಾರಗೂ ಸಿಗ್ ರೋದು ಇಂಡಿಯಾದ ಆದರಪ್ರದೇಶದಲ್ಲಿರು ರ ಡ ಚಿುರ್ನು ಕಾಡ್ಗಳಲ್ಲಿ ಸಿಗುತ್ತೆ ಡಸ್ಯಂಡಡಗ್ನು ತುಂಬಾ ಚೈನಾ ಜಪಾನ್ ಮಯಾನಮಾರ್ಗಂಟ್ರಿಗಳು ಸ್ಕೊಡು ನಮ್ ರಿಯಲ್ಲಿ ಚಿನ್ನಕ್ಕೆ ಯಾವತರ ಬೆಲೆಕೊರ್ತ\n",
            "Processed SandalWoodNewsStories_45.mp3: ಶುವಾಸಂಜ  ನಾನ ಇವತ್ತು ನಿಮ್ಮನ ನಮ್ಮ ಕರ್ನಾಟಕದ ಅತ್ಯಂತ ಹೆಸರು\n",
            "Processed SandalWoodNewsStories_287.mp3: ರೈತರಿಗೆ ಸಂಚಿತ್ಟಿನ್ಯೂಸ್ ಕಡಿಂದ ಎಲ್ಲರಿಗೂ ಸ್ವಾಗತ ಎಂದು ನಾವು ಬಂದಿದ್ದೇವೆ ಕೊಟ್ಟಲಿಗಿಗ್ರಾಮಕ್ಕೆ ಶ್ರೀಗಂಧದ ಗಿಡಗಳ ಮಾಹಿತಿಯನ್ನು ಗೆದುಕೊಳ್ಳಲು ಬಂದಿದ್ದೇವೆ ಇವತ್ತಿನವರೆಗೆ ಪರಿಸ್ಥಿತಿ ಹೇಗಿದ್ದು ಅಂದರೆ  ಒಡ್ಡಿನ ಮೇಲೆ ಒಂದೆರಡು ಶ್ರೀಗಂಧದ ಗಿಡಗಳು ಇದ್ದರೂ ಸೈತ ಅದನ್ನು ಕಳ್ಳರು ಕಳತನದಿಂದ ಯಾವಾಗ ಕಡೆದುಕೊಂಡು ಹೋಗುತ್ತಾರೆ ಎಂದು ಗೊತ್ತಾಗುವುದಿಲ್ಲ ಆದರೆ ಬೆಳಗಾನ್ ಜಿಲ್ಲೆಯ ಅನೀ ತಾಲೂಕದಲ್ಲಿ\n",
            "Processed SandalWoodNewsStories_284.mp3: ಮತ್ತಿಗ ್ ತಾವರೆತೋಟಬರುತ್ತಯಿದೇನಿ ನಮಗೆಳೆ ಸುಂದರ್ ನಿವರೃತ್ತ ಪೋಲೀಸ್ ಅಧಿಕಾರಿ ಅವರು ಹೇ ಕಷ್ಟಪಟ್ಟರು ಕಟ್ೆಗಳಮೇಲೆ ಹೇಗತಗೊಬದ ರು ಮಗ ಚಂದರಮನ ಗಲ್ಧದಗಡಗ ರಕ್ಷಿಸುವುದಕ್ಕೆ ಹೇಗೆ ಕೋಟೆ ಕಟ್ಟದಾನದನನ ವವರವಾಗಿ ನಿಮ ಹಳಿದೇನನು ಬಳ ಅದ್ಭುತವದ  ನ\n",
            "Processed SandalWoodNewsStories_2.mp3: ಚೆನ  ಗ   ಾದ್ರೆ\n",
            "Processed SandalWoodNewsStories_242.mp3: ಮತ್ತೆ ಸ್ವಾಗತ  ಇತ್ತೀಚನದಿನಗಳಲ್ಲಿ ಗೆಲ್ಲರಿಗೂ ದ ರೀತಿಯಾದಂತ ಕೃಷಿಯಲ್ಲಿ ಸಾಧನೆ ಮಾಡಬೇಕು ಅವಂ ಆಸೆ ಇದ್ದೆ ರೆ ಅದರಲ್ಲೂ ಶ್ರೀಘಂತದ ಕೃಷಿಬಗ್ಗೆ ನಾವು ಕೇಳಿರದ್ದಿವೆ ಮಾಡಬೇಕು ಂತ ಬಹಳಷ್ಟು ಜನ ಉತ್ತುಕರು ಕೂಡ ಆಗಿರತ್ತರೆ ಟ ಹೇಗ್ ಮಾಡಬೇಕು ಗೇನ್ ಮಾಡಬೇಕು ಗೆಲ್ಲಿಂದ ಶುರು ಮಾಡಬೇಕು ಮಾಹಿತಿ ಹೇಪಡ್ಕೊೋಬೇಕು ಇದೆಲ್ಲವೂ  ಪ್ರಶ್ನೆ ಇದ್ದೆ ಇರುತೆ\n",
            "Processed SandalWoodNewsStories_296.mp3: ಶರಿಣ ಸ್ವಾಮಿ ಕೆ್ವಾರ್ತಗೆ ಸ್ವಾಗತ ನಮಗೆ ಕೆಲ ಸಂದರ್ಭಗಳಲ್ಲಿ ಕೆಲು ಬೆಳೆಗಳು ಬಗ್ಗೆ ಕುತ್ತುಹಲಗಿರುತ್ತದೆ ನಮ್ಮ ಪ್ರದೇಶಕ್ಕೆ ಬರುತ್ತಲ್ಲ ಬೆಳೆಯುತ್ತಿಲ್ಲು ದೀರ್ಗಕಾಲದ ಬೆಳೆಯನ್ನನ ಹಾಯ್ಕದ ಎಲ್ಲ ನಾಲ್ಕಾರ್ ವಿಚಾರಗಳನ್ನು ಮಾಡುತ್ತೀವಿ ಈ ಒಂದು ದೇಶೆಯಲ್ಲಿ ರಕ್ಕಚಂದ್ಮಟ್ಟ ಶ್ರೀಗಂದು ಕೂಡ\n",
            "Processed SandalWoodNewsStories_1.mp3: ಶ್ರೀಗಂಧ ಕುಿ ಅಿ ಕಡಿಮೆ ನೀರತಕಕ ಬೆಬಹುದು ಲ್ನೇ ಗಿಡಬೆಳಬಹುದು ನಮ್ಮ ಲನ್ ಕ್ಯಾಮರಾದರೆ ನಿಮ್ಮ ಕಣ್ಣು ಕ್ಯಾಮರಾ ಕನೆಕ್ಟ್ಆಯಿತದರೆ ನಿ್ಮ ಆಧರ್ಬರ್ಬ ತಂತ್ರಜ್ಞಾನ ಸಾಕಷ್ಟು ಡೆವಲಪ್ ಆಗತ ದನಾದೂ ಆಧಾರಬೇಕು ಮಾತಾಡ ು ಕಿಲ ಶ್ರೀಗ ತು ಕರ್ನಾಟಕ ಸರ್ಕಾರ ಕರ್ನಾಟಕದಲ್ಲಿ ಮಾಡತ್ತಯದೆ  ರೇಟ್ಆಫ್ಫೈಲ್ಯಾಕ್ರ\n",
            "Processed SandalWoodNewsStories_229.mp3: ಸ್ವಾಗತ ನಾನು ವಿಜೆಲಕ್ಷ್ಮಿಶಿಬರುರು ಕಾಡುಗಳಳ ವೀರಪಸತ್ತಾಗ ನಾವೆಲ್ಲ ನಿಟ್ಟಿಸಲು ಬಿ್ಟವೆ ನಮ್ಮ ನಾಡಿನ ಗ್ರಂಧದ ಗಿಡಗಳೆಲ್ಲ ಹವ ಅಂತ ನಾವು ನೆಮ್ಮದಿಂದ ದದವೆ ಆದರೆ ನಮ್ಮ ನೆಮ್ಮದನನ ಕೇಳಿಸುವಂತ ಒಂದು ಸುದ್ದಿ ಹೇಳತೀನಿ ಕೇಳಿ\n",
            "Processed SandalWoodNewsStories_107.mp3: ನೋಡತ್ತರೋದು ಕಳಗಡ ಳೆಗಡ ಯ ಬೆಳಬೇಕು ಕಳ್ಣು ಅಂತ ಹೇಳತತವದಕೆ ಕನ್ನಡದಲ್ಲಿ ಇಂ್ಿಷಲ್ಬಂದರ ಇದಕ್ಕೆ ಕೊರೋದತೆ ಲ್ಲಿ ಡ ಸುದರಸುದರಫ ಇದೆ ಆರ ಜೊತೆ ಸುದರ ಹಣ್ಣಿನ ಮಧ್ಯೆ ಇದಕೆ ಮುರ ಇದೆ ್ೆ  ಮಾಡತ್ತ ನಿಮಗೆ ಫ್ರೆಂನ್ಹಾಗುತತೆ ಯಾರು ಗಧಬೆಳತಿದ್ದರ ಇಲ್ಲ ಯಾರುಂದು ತೋಟ ಮಾಡು್ತಿದ್ದರೆ ನ್ಯಾಚಫರೆನ್ಸ ಯೂಸ್ ಮಾಡಿ ಹಣ್ಣ ನೋಡಿ ಇದು ನಿಮಗೆ ಹೈಬಡ್ ಒಂದು ರೇಜಗೆ ಇಳ್ಳಿ ಹೋಗತ್ತಿರೋದು\n",
            "Processed SandalWoodNewsStories_303.mp3: ನಮರ   ಸ್ವಾಮಿ ಕರಕಿಸ್ವಾಗತ ನಮ್ಮಲ್ಲಿ ಶ್ರೀಗಂದ ಹಾಕ್ಬೇಕು ಅಥವಾದ ನಡಿಬೆಕ್ಕಂತ ಕ್ಷಣ ರೈತರಿ ಸಾಕಷ್ಟು ಗೊಂದಲಿಗಳಿವೆ ಮೊದಲೇನೆಯದಾಗಿ ಆ ಶ್ರೀಗನಮರ್ಕೆ ಬೆಳಲಿಕ್ಕೆ ಸರ್ಕಾರದ ಅನುಮತಿಯಾಗಿತ್ತದೆಇದೆಯ ಅದರಲ್ಲಿ\n",
            "Processed SandalWoodNewsStories_191.mp3: ನೋಡಬಹುದು  ರ ಗಿಡ ಇದು ಆಲ್ಮೋಸ್ಟ ರೂ್ಸು ಹರವೆಸ್ಟ ಆಗಿದೆ ಅದರೆ ಅದು ಕಳ್ತನಾಗುತ್ತಇತತ ದು ಕಳ್ತನಾಗಿದೆ ಗಿಡ ಬಟ್ ರೂಟ್ಸಕ್ಕಿದೆರಿಗೆ ಫುಲ್ ಹಾರ್ಡದೆ ಫ್ರೆಂಡ್ಸ್ ಇದು ಹಾಗಾಗಿ ರಟ್ ಮಾಡಬಹುದು ವಿಡ ಕಂಪ್ಯೂಟ್ನೋಡಿ ನಿಗೆ ಅರ್ಥಗುತ್ತೆವ  ನಕರ ಕ ಗ ಇವತ್ತಿನ ವಿಡಿಯೋ ನವು ಕಳ್ತನ ಬಗ್ಗೆ ಕಳತನ ಆದರೆ ನು ಮಾಡಬೇಕು ಇಲ್ಲಂದರೆ ಆದನ ಹೇಗೆ ಉಳಿಕೊಬೇನ್ನೋದಕು\n",
            "Processed SandalWoodNewsStories_53.mp3: ಿಮೆಟ<unk> <unk>  ಹಾ ಫಾರ್ಮೇನದ ರಿ  ್ಟರಿ ಡ್ ರ್ತ    ಮೀಟ್ ಅ   ಿಮೆ<unk>   ಕಪಲ್ ೆ<unk> ಹಾ ಿ     ಮಲ್\n",
            "Processed SandalWoodNewsStories_33.mp3: \n",
            "Processed SandalWoodNewsStories_291.mp3: ಪೊಲೀಸ್ ಕಮಿಷನರ್ ಕಚೇರಿಯ ಕೂಗಳತೆ ದೂರದಲ್ಲಿ ಕಣ್ಣುತನ ನಡೆದಿದೆ ಮಚ್ಚು ದೊಣ್ಣೆಗಳಿಂದ ಭದ್ರತಾಸಿಬಂದಿನ ಬೆದರಿಸಿ ಎಂಸ ಅಪಾರ್ಟ್ಮೆಂಟ್ನಲ್ಲಿ ಗ್ಂಧದ ಮರವನ್ನು ಕಳ್ಣರು ಕದೊದಿದ್ದರೆ ಇದೇ ತಿಂಗಳು  ತೊದನೆದಾರಿಕ ಘಟನೆ ನಡೆದಿದ್ದು ಇದು ತಡವಾಗಿ ಬೆಳಕಬಂದಿದೆ ವಧಾನಸವದಾ ಟಾಣಿಯಲ್ಲಿ ಪ್ರಕರಣ ದಾಖಲಾಗಿದ್ದು ಪೊಲಸ್ರು ನಿಕೆ ನಡೆಸುತ್ತಿದಾರೆ\n",
            "Processed SandalWoodNewsStories_279.mp3: ೂಕಬರೆ  ಡಿಗಬತ್ತನೆ ಮಲ್ಟಿಲ್ ಫ್ಯಾಕ್ಚರ್ ಆಗುತ್ತೆ ಇಮಿಟ  ಕರಣವ್ು ಮೊಬಲಯತ ಮಿಟ ್ಲೋಕೇಷನ್ ಬರಲಾಗುತ್ತೆ ಕಟವಾಗಬೇಕಾದರೆ ಎಷ್ಟು ದಪ್ಪ ರಬೇಕು ಅಂತ ಪ್ರಶ್ನೆಗೇಳುತ್ತರೆ ಬ್ಲ್ಯಾ್ದೆ ಟೋಟಲ್   ದ ನೋಡತ್ತ ಇದು ಳ್ಳೆ ಸಿಟ    ಲೈಕ್ ಡೈಮಂಡದ್ದಂಗಿದೆಗೆ ಗೋಡ ಡೈಮಾಂಡಿದದೆ ಬೆಳಲ ಪರಮಿಷನ್ ಬೇಕಾಗಿಲ್ಲ ಕಟಮಾಡಿಕ್ಕಬೇಕು\n",
            "Processed SandalWoodNewsStories_299.mp3: ನವು ಬಡವರಾಗಿ ಗುಟ್ಟಬರದಾಗ ಯಾಕಪ್ ಏನಾಯತು ಈಗ ನಿನಗೆ ಈಗ ಯಾವುದಕ್ಕೆ ಕಡಿಮೆಯಾಗಿದೆ ನಿನಗೆ ಆಗಲ್ಲಮ್ಮ ಮನೆಯಲ್ಲಿ ದುಡ್ಡು ಶ್ವರಎಲ್ಲ ಇರಬೇಕು ಹಾಗಿದ್ದರೆ ಮಾತ್ರನೆಮ್ಮದು ಆಗೆಲ್ಲ ಹೇಳಬಾರದು ಮತ್ತು ನಮ್ಮಲ್ಲಿ ಷ್ಟಇೆಯ ಅದರಲ್ಲಿ ನೆಮ್ಮದಿಯಾಗಿಇರಬೇಕು ರಾಸೆಪಡಬಾರದು ಅಮ್ಮ ಪ್ರಾಮಾಣಿಕವಾಗಿದ್ದರೆ ದುಡ್ಡ ಸಂಪಾದನೆ ಮಾಡದ ಕಾಗ ಅಮ್ಮ ನ್ನಫ್ರೆ\n",
            "Processed SandalWoodNewsStories_9.mp3: ಮಕ್ಕಳು ನ್ಮ ತಂದಿತಾಯಿ ಮನೆಗಿರಬ ಂದು ಕೋಟಿ ಮನೆ ಒದು  ಲಕ್ಷಕೊಟರೆ ಒದು ಕಿಲೋ ಬಂಗಾರಬರುತ್ತದೆ  ದಕೆ ಬಂಗಾರತಬ ನಮ್ಮ ರೈತರಿ ಜ ಬಂಗಾರನವ್ನು ಸಂದೇಶಕೊಳಸಬೇಕು  ವು ಗಿಡ ಚಚಿದವರಿಗೆ  ಗೂಡಿ ಕಟ್ಟಿದ ಪುಣ್ಣ ನೀವು ಬರುತ್ತದೆ\n",
            "Processed SandalWoodNewsStories_41.mp3: ಅವರ ತಾಲೂಕಿನ ಐು ಗ್ರಾಮುಗಳ ರೈತರು ಕಷ್ಟಪಟ್ಟು ಶ್ರೀಗಂಧದ ಮರಗಳನ್ನು ಬೆಳಸಿದರು ಸುಮಾರು ಹರಿಂದ  ವರ್ಷಗಳಿಂದ ಬೆಳೆದಿರಂ ಶ್ರೀಗಂಡದ ಮರಗಳನ್ನು ನು ಕಟಾವು ಮಾಡಬೇಕು ಅನ್ನುಕ್ಿಂತನಿಗಲಿ ರೈತರಿದರು ಆದೀಗ ರೈತರಿಗೆ ಹೊಸ ಸಂಕಷ್ಟ ಶುರುವಾಗದೆ  ಸಂಕಷ್ಟಂತೀರ ತೋರಿತೇ ಕರ್ ನಾಟ ಕ ಶ್ರೀಗಂಧದ ನಾಡುವಂತ ಕರಿತಾರೆ ಕರ್ನಾಟಕದಲ್ಲಿ ಬೆಳೆಯುವ ಶ್ರೀಗಂಧದಷ್ಟು ಉತ್ಕರುಷ್ಟದರ್ೆ\n",
            "Processed SandalWoodNewsStories_294.mp3: ವರಷದಮೇಲೆ  ಗೌರ್ಮೆಂಟ್ ನೀವು ಸಾಲ ಕೊ ರೀತಿಬಳತೀರಾ ಿಮಗೆ ಸರ ಕೊರಾಟಗರ್ಮೆಂಟ ರ     ಲ್ ಕೂಡ ಇನ್ಸ್ಪರ್ಆಗಿದ್ದೇನೆ  ದು ಕಜಾಗ ದೆ ಜಾಗದಲ್ಲಿ ಸಸಿಗಬೇಕು  ಸಗಳಿಗೆತ್ತ\n",
            "Processed SandalWoodNewsStories_286.mp3: ನಮಸ್ಕಾರ ಡಾಟ್ ದೇವರಾಜರಡಿ ಜನತಜ್ಞಾಚಿತ್ರದುರ್ ರೈನ್ ವಾಟಾಬುರ ಸಂಸ್ಥೆ ಮುಖ್ಯಿ್ಥ ಅತ್ಮೇರ ಯೂಟ್ಯೂಬ್ ಚಾನಲ್ ವಿಡಿಯಗಳನ್ನು ಲೈಕ್ ಮಾಡದರು ಶೇರ್ ಮಾಡದು ಸಬ್ಸ್ಕ್ರಿಪ್ ಮಾಡಮಡಿಮರಿಬಿಡೆ ಇವತ್ತಿನ ವಿಶ ತುಂಬಾ ಡಿಫರೆಂಟ್ ಆಗಿದೆ ು ಎಲ್ಲರೂ ಗುತ್ತಿದ ಚಿತ್ರದುರ್ಗಂದರೆ ಮಳೆ ಕಡಿಮೆಬರುವಂ ಪ್ರದೇಶ ಕಲ್ಲಿನ ಬಂಡೆಯಾ\n",
            "Transcription completed for all audio files.\n"
          ]
        }
      ]
    },
    {
      "cell_type": "code",
      "source": [],
      "metadata": {
        "id": "BslCNCjshFCc"
      },
      "execution_count": null,
      "outputs": []
    }
  ]
}